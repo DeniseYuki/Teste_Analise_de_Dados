{
  "nbformat": 4,
  "nbformat_minor": 0,
  "metadata": {
    "colab": {
      "provenance": [],
      "authorship_tag": "ABX9TyMu2QnNpK4Xw96gY0Cw9Q50",
      "include_colab_link": true
    },
    "kernelspec": {
      "name": "python3",
      "display_name": "Python 3"
    },
    "language_info": {
      "name": "python"
    }
  },
  "cells": [
    {
      "cell_type": "markdown",
      "metadata": {
        "id": "view-in-github",
        "colab_type": "text"
      },
      "source": [
        "<a href=\"https://colab.research.google.com/github/DeniseYuki/Teste_Analise_de_Dados/blob/main/Atividade.ipynb\" target=\"_parent\"><img src=\"https://colab.research.google.com/assets/colab-badge.svg\" alt=\"Open In Colab\"/></a>"
      ]
    },
    {
      "cell_type": "code",
      "execution_count": 3,
      "metadata": {
        "colab": {
          "base_uri": "https://localhost:8080/"
        },
        "id": "2jN8mNiS59tH",
        "outputId": "4479f038-4dca-47fc-88e7-069409fc0d38"
      },
      "outputs": [
        {
          "output_type": "stream",
          "name": "stdout",
          "text": [
            "        Modelo  Consumo_Cidade_km/L  Consumo_Estrada_km/L  Preço_R$   Ano\n",
            "0        Sedan                   10                    14     75000  2022\n",
            "1          SUV                    8                    10    120000  2021\n",
            "2    Hatchback                   12                    15     60000  2023\n",
            "3        Coupé                    9                    12     90000  2022\n",
            "4  Convertible                    7                     9    140000  2023\n"
          ]
        }
      ],
      "source": [
        "import pandas as pd\n",
        "\n",
        "# Criando um DataFrame fictício sobre o consumo de veículos\n",
        "data = {\n",
        "    'Modelo': ['Sedan', 'SUV', 'Hatchback', 'Coupé', 'Convertible'],\n",
        "    'Consumo_Cidade_km/L': [10, 8, 12, 9, 7],\n",
        "    'Consumo_Estrada_km/L': [14, 10, 15, 12, 9],\n",
        "    'Preço_R$': [75000, 120000, 60000, 90000, 140000],\n",
        "    'Ano': [2022, 2021, 2023, 2022, 2023]\n",
        "}\n",
        "\n",
        "df_estudo = pd.DataFrame(data)\n",
        "print(df_estudo)\n"
      ]
    },
    {
      "cell_type": "code",
      "source": [
        "df_estudo.columns=[\"modelo\",\"consumo1\",\"consumo2\",\"preco\",\"ano\"]\n",
        "print(df_estudo)"
      ],
      "metadata": {
        "colab": {
          "base_uri": "https://localhost:8080/"
        },
        "id": "KhHCgi-f6Tmr",
        "outputId": "cb4b6f7f-8971-450c-bed1-4d95591479e6"
      },
      "execution_count": 7,
      "outputs": [
        {
          "output_type": "stream",
          "name": "stdout",
          "text": [
            "        modelo  consumo1  consumo2   preco   ano\n",
            "0        Sedan        10        14   75000  2022\n",
            "1          SUV         8        10  120000  2021\n",
            "2    Hatchback        12        15   60000  2023\n",
            "3        Coupé         9        12   90000  2022\n",
            "4  Convertible         7         9  140000  2023\n"
          ]
        }
      ]
    },
    {
      "cell_type": "code",
      "source": [
        "preco = df_estudo[\"preco\"].unique()\n"
      ],
      "metadata": {
        "id": "3d__iCT97HUk"
      },
      "execution_count": 11,
      "outputs": []
    },
    {
      "cell_type": "code",
      "source": [
        "media = preco.mean()\n",
        "media"
      ],
      "metadata": {
        "colab": {
          "base_uri": "https://localhost:8080/"
        },
        "id": "3rw1iKOu7fqL",
        "outputId": "a4d7a1fc-9fa4-45c7-9feb-bf756d64d4a3"
      },
      "execution_count": 15,
      "outputs": [
        {
          "output_type": "execute_result",
          "data": {
            "text/plain": [
              "97000.0"
            ]
          },
          "metadata": {},
          "execution_count": 15
        }
      ]
    },
    {
      "cell_type": "code",
      "source": [
        "consumo_Cidade = df_estudo[\"consumo1\"].unique()\n",
        "consumo_Cidade\n"
      ],
      "metadata": {
        "colab": {
          "base_uri": "https://localhost:8080/"
        },
        "id": "E-OCZ1cS7v6x",
        "outputId": "a6cdfcf1-119a-4197-8c6a-c0cf8a284111"
      },
      "execution_count": 23,
      "outputs": [
        {
          "output_type": "execute_result",
          "data": {
            "text/plain": [
              "array([10,  8, 12,  9,  7])"
            ]
          },
          "metadata": {},
          "execution_count": 23
        }
      ]
    },
    {
      "cell_type": "code",
      "source": [
        "Media_C = consumo_Cidade.mean()\n",
        "Media_C"
      ],
      "metadata": {
        "colab": {
          "base_uri": "https://localhost:8080/"
        },
        "id": "ljopYGrt8qBD",
        "outputId": "acc12c74-dbb1-4c41-fadf-b9c7dbd08c4b"
      },
      "execution_count": 24,
      "outputs": [
        {
          "output_type": "execute_result",
          "data": {
            "text/plain": [
              "9.2"
            ]
          },
          "metadata": {},
          "execution_count": 24
        }
      ]
    },
    {
      "cell_type": "code",
      "source": [
        "consumo_Estrada = df_estudo[\"consumo2\"].unique()\n",
        "consumo_Estrada"
      ],
      "metadata": {
        "colab": {
          "base_uri": "https://localhost:8080/"
        },
        "id": "W-cPMnFx8hqR",
        "outputId": "6358d19c-c008-4212-8c3b-efb12d94922a"
      },
      "execution_count": 22,
      "outputs": [
        {
          "output_type": "execute_result",
          "data": {
            "text/plain": [
              "array([14, 10, 15, 12,  9])"
            ]
          },
          "metadata": {},
          "execution_count": 22
        }
      ]
    },
    {
      "cell_type": "code",
      "source": [
        "Media_E = consumo_Estrada.mean()\n",
        "Media_E"
      ],
      "metadata": {
        "colab": {
          "base_uri": "https://localhost:8080/"
        },
        "id": "nq2dFez88-h6",
        "outputId": "7831a459-3fc5-4fb2-8d2c-5f2cd88e82a0"
      },
      "execution_count": 25,
      "outputs": [
        {
          "output_type": "execute_result",
          "data": {
            "text/plain": [
              "12.0"
            ]
          },
          "metadata": {},
          "execution_count": 25
        }
      ]
    }
  ]
}